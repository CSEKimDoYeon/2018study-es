{
 "cells": [
  {
   "cell_type": "markdown",
   "metadata": {},
   "source": [
    "201602089 한정원\n",
    "\n",
    "자바스크립트 코드가 많아지면 파일 하나에서 관리하기 힘듦.\n",
    "그렇다고 여러 파일로 나누면?\n",
    " - 여러 파일을 브라우저에 로딩해야하므로 그만큼 네트워크 비용을 치뤄야함.\n",
    " - 잘못 작성할 경우 서로의 스코프를 침범하여 변수 충돌의 위험이 있음.\n",
    "\n",
    "따라서 이러한 점들을 해결하기 위해 <b>웹팩이 필요</b>함.\n",
    " - 모듈을 IIFE스타일로 변경\n",
    " - 하나의 파일로 묶어 네트워크 비용을 최소화\n",
    "\n",
    "<b>웹팩이란</b>\n",
    " - 웹팩은 기본적으로 모듈 번들러다.\n",
    " - 의존성 그래프에서 엔트리로 그래프의 시작점을 설정하면 웹팩은 모든 자원을 모듈로 로딩한 후 아웃풋으로 묶어준다.\n",
    " - 로더로 각 모듈별로 바벨 사스변환 등의 처리를 하고 이 결과를 플러그인이 받아 난독화, 텍스트 추출 등의 추가 작업을 한다.\n",
    "\n",
    "+ 엔트리 : 의존성 그래프의 시작점\n",
    "+ 아웃풋 : 엔트리에 설정한 자바스크립트 파일을 시작으로 의존되어 있는 모든 모듈을 하나로 묶음\n",
    "+ 로더 : 자바스크립트가 아닌 다른 파일을 웹팩이 이해하게끔 변경해줌\n",
    "+ 플러그인 : 번들된 자바스크립트를 난독화 하거나 특정 텍스트를 추출하는 용도로 사용\n",
    "\n",
    "출처 : http://blog.jeonghwan.net/js/2017/05/15/webpack.html"
   ]
  }
 ],
 "metadata": {
  "kernelspec": {
   "display_name": "Python 3",
   "language": "python",
   "name": "python3"
  },
  "language_info": {
   "codemirror_mode": {
    "name": "ipython",
    "version": 3
   },
   "file_extension": ".py",
   "mimetype": "text/x-python",
   "name": "python",
   "nbconvert_exporter": "python",
   "pygments_lexer": "ipython3",
   "version": "3.6.5"
  }
 },
 "nbformat": 4,
 "nbformat_minor": 2
}
